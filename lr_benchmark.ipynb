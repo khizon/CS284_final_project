{
 "cells": [
  {
   "cell_type": "code",
   "execution_count": 19,
   "id": "8ff56eaa-aa7c-4fc3-9af1-142dedae9cef",
   "metadata": {},
   "outputs": [],
   "source": [
    "import os\n",
    "import warnings\n",
    "warnings.simplefilter('ignore')\n",
    "\n",
    "import pandas as pd\n",
    "import json\n",
    "import numpy as np\n",
    "\n",
    "from sklearn.feature_extraction.text import CountVectorizer,TfidfVectorizer\n",
    "from sklearn.metrics import log_loss,confusion_matrix,classification_report,roc_curve,auc\n",
    "from sklearn.linear_model import LogisticRegression\n",
    "from scipy import sparse"
   ]
  },
  {
   "cell_type": "code",
   "execution_count": 20,
   "id": "58c3d2a2-960c-4f2d-b51f-497f8aa7ff5c",
   "metadata": {},
   "outputs": [],
   "source": [
    "def jsonl_to_df(file_path):\n",
    "    with open(file_path) as f:\n",
    "        lines = f.read().splitlines()\n",
    "\n",
    "    df_inter = pd.DataFrame(lines)\n",
    "    df_inter.columns = ['json_element']\n",
    "\n",
    "    df_inter['json_element'].apply(json.loads)\n",
    "\n",
    "    return pd.json_normalize(df_inter['json_element'].apply(json.loads))"
   ]
  },
  {
   "cell_type": "markdown",
   "id": "90796f53-8935-4703-8b8a-9986cf9de1f8",
   "metadata": {},
   "source": [
    "# Load the dataset\n",
    "\n",
    "Note that the label:\n",
    "1 - reliable\n",
    "0 - unreliable"
   ]
  },
  {
   "cell_type": "code",
   "execution_count": 23,
   "id": "05bf5199-0669-4adf-a19e-dcf70ea7b212",
   "metadata": {},
   "outputs": [
    {
     "data": {
      "text/html": [
       "<div>\n",
       "<style scoped>\n",
       "    .dataframe tbody tr th:only-of-type {\n",
       "        vertical-align: middle;\n",
       "    }\n",
       "\n",
       "    .dataframe tbody tr th {\n",
       "        vertical-align: top;\n",
       "    }\n",
       "\n",
       "    .dataframe thead th {\n",
       "        text-align: right;\n",
       "    }\n",
       "</style>\n",
       "<table border=\"1\" class=\"dataframe\">\n",
       "  <thead>\n",
       "    <tr style=\"text-align: right;\">\n",
       "      <th></th>\n",
       "      <th>content</th>\n",
       "      <th>title</th>\n",
       "      <th>date</th>\n",
       "      <th>source</th>\n",
       "      <th>label</th>\n",
       "      <th>split</th>\n",
       "    </tr>\n",
       "  </thead>\n",
       "  <tbody>\n",
       "    <tr>\n",
       "      <th>5887</th>\n",
       "      <td>Britain's most prolific bird egg thief single-...</td>\n",
       "      <td>Britains most prolific bird egg thief single-h...</td>\n",
       "      <td>2018-10-12</td>\n",
       "      <td>thetelegraph</td>\n",
       "      <td>1</td>\n",
       "      <td>dev</td>\n",
       "    </tr>\n",
       "    <tr>\n",
       "      <th>10217</th>\n",
       "      <td>HARRIS FAULKNER (CO-HOST): I want to just hit ...</td>\n",
       "      <td>Fox Host Trumps lawyer didnt want him meeting ...</td>\n",
       "      <td>2018-11-30</td>\n",
       "      <td>mediamattersforamerica</td>\n",
       "      <td>1</td>\n",
       "      <td>train</td>\n",
       "    </tr>\n",
       "    <tr>\n",
       "      <th>24568</th>\n",
       "      <td>It feels as though 2018 is the year of rapid i...</td>\n",
       "      <td>Typhoon Yutu could strike Guam as a Category 5...</td>\n",
       "      <td>2018-10-24</td>\n",
       "      <td>sottnet</td>\n",
       "      <td>0</td>\n",
       "      <td>dev</td>\n",
       "    </tr>\n",
       "    <tr>\n",
       "      <th>20124</th>\n",
       "      <td>If the turn of the year means one thing for Ar...</td>\n",
       "      <td>Arsenal transfer news The players out of contr...</td>\n",
       "      <td>2018-11-27</td>\n",
       "      <td>eveningstandard</td>\n",
       "      <td>1</td>\n",
       "      <td>test</td>\n",
       "    </tr>\n",
       "    <tr>\n",
       "      <th>21915</th>\n",
       "      <td>The Tupolev Aircraft Company will develop the ...</td>\n",
       "      <td>Russia to modernize Tupolev Tu-95MS strategic ...</td>\n",
       "      <td>2018-08-14</td>\n",
       "      <td>sottnet</td>\n",
       "      <td>0</td>\n",
       "      <td>dev</td>\n",
       "    </tr>\n",
       "    <tr>\n",
       "      <th>22869</th>\n",
       "      <td>The Florida Senate race  the country's most ex...</td>\n",
       "      <td>The Florida Senate race between Nelson and Sco...</td>\n",
       "      <td>2018-11-07</td>\n",
       "      <td>cnbc</td>\n",
       "      <td>1</td>\n",
       "      <td>train</td>\n",
       "    </tr>\n",
       "    <tr>\n",
       "      <th>21601</th>\n",
       "      <td>As US President Donald Trump read a statement ...</td>\n",
       "      <td>Lights go out at White House as Trump pledges ...</td>\n",
       "      <td>2018-07-17</td>\n",
       "      <td>rt</td>\n",
       "      <td>0</td>\n",
       "      <td>dev</td>\n",
       "    </tr>\n",
       "    <tr>\n",
       "      <th>37752</th>\n",
       "      <td>Is the /pol/ Prophecy About to be Fulfilled?\\n...</td>\n",
       "      <td>Is the pol Prophecy About to be Fulfilled</td>\n",
       "      <td>2018-11-23</td>\n",
       "      <td>dailystormer</td>\n",
       "      <td>0</td>\n",
       "      <td>train</td>\n",
       "    </tr>\n",
       "    <tr>\n",
       "      <th>20576</th>\n",
       "      <td>the move is unclear as the people of both coun...</td>\n",
       "      <td>Curious and hostile Reports Austria granting c...</td>\n",
       "      <td>2018-07-26</td>\n",
       "      <td>sottnet</td>\n",
       "      <td>0</td>\n",
       "      <td>dev</td>\n",
       "    </tr>\n",
       "    <tr>\n",
       "      <th>21270</th>\n",
       "      <td>ER actress Vanessa Marquez has died after bein...</td>\n",
       "      <td>ER actress Vanessa Marquez shot dead by police...</td>\n",
       "      <td>2018-09-01</td>\n",
       "      <td>eveningstandard</td>\n",
       "      <td>1</td>\n",
       "      <td>test</td>\n",
       "    </tr>\n",
       "  </tbody>\n",
       "</table>\n",
       "</div>"
      ],
      "text/plain": [
       "                                                 content  \\\n",
       "5887   Britain's most prolific bird egg thief single-...   \n",
       "10217  HARRIS FAULKNER (CO-HOST): I want to just hit ...   \n",
       "24568  It feels as though 2018 is the year of rapid i...   \n",
       "20124  If the turn of the year means one thing for Ar...   \n",
       "21915  The Tupolev Aircraft Company will develop the ...   \n",
       "22869  The Florida Senate race  the country's most ex...   \n",
       "21601  As US President Donald Trump read a statement ...   \n",
       "37752  Is the /pol/ Prophecy About to be Fulfilled?\\n...   \n",
       "20576  the move is unclear as the people of both coun...   \n",
       "21270  ER actress Vanessa Marquez has died after bein...   \n",
       "\n",
       "                                                   title        date  \\\n",
       "5887   Britains most prolific bird egg thief single-h...  2018-10-12   \n",
       "10217  Fox Host Trumps lawyer didnt want him meeting ...  2018-11-30   \n",
       "24568  Typhoon Yutu could strike Guam as a Category 5...  2018-10-24   \n",
       "20124  Arsenal transfer news The players out of contr...  2018-11-27   \n",
       "21915  Russia to modernize Tupolev Tu-95MS strategic ...  2018-08-14   \n",
       "22869  The Florida Senate race between Nelson and Sco...  2018-11-07   \n",
       "21601  Lights go out at White House as Trump pledges ...  2018-07-17   \n",
       "37752          Is the pol Prophecy About to be Fulfilled  2018-11-23   \n",
       "20576  Curious and hostile Reports Austria granting c...  2018-07-26   \n",
       "21270  ER actress Vanessa Marquez shot dead by police...  2018-09-01   \n",
       "\n",
       "                       source  label  split  \n",
       "5887             thetelegraph      1    dev  \n",
       "10217  mediamattersforamerica      1  train  \n",
       "24568                 sottnet      0    dev  \n",
       "20124         eveningstandard      1   test  \n",
       "21915                 sottnet      0    dev  \n",
       "22869                    cnbc      1  train  \n",
       "21601                      rt      0    dev  \n",
       "37752            dailystormer      0  train  \n",
       "20576                 sottnet      0    dev  \n",
       "21270         eveningstandard      1   test  "
      ]
     },
     "execution_count": 23,
     "metadata": {},
     "output_type": "execute_result"
    }
   ],
   "source": [
    "FILE_PATH = './data/nela_gt_2018_site_split/'\n",
    "\n",
    "train_df = jsonl_to_df(FILE_PATH + 'train.jsonl')\n",
    "train_df['split'] = 'train'\n",
    "dev_df = jsonl_to_df(FILE_PATH + 'dev.jsonl')\n",
    "dev_df['split'] = 'dev'\n",
    "test_df = jsonl_to_df(FILE_PATH + 'test.jsonl')\n",
    "test_df['split'] = 'test'\n",
    "\n",
    "df = pd.concat([train_df, dev_df, test_df])\n",
    "df.sample(10)"
   ]
  },
  {
   "cell_type": "markdown",
   "id": "e7c658d8-2a61-4263-b6a6-d6328b03c3af",
   "metadata": {},
   "source": [
    "The splitting script provided here (https://github.com/alexa/unreliable-news-detection-biases) produces balanced data between classes and all articles from each news source are contained within the splits. "
   ]
  },
  {
   "cell_type": "code",
   "execution_count": 24,
   "id": "d3f7d955-e77d-496e-8645-fb599a650b0c",
   "metadata": {},
   "outputs": [
    {
     "data": {
      "text/html": [
       "<div>\n",
       "<style scoped>\n",
       "    .dataframe tbody tr th:only-of-type {\n",
       "        vertical-align: middle;\n",
       "    }\n",
       "\n",
       "    .dataframe tbody tr th {\n",
       "        vertical-align: top;\n",
       "    }\n",
       "\n",
       "    .dataframe thead th {\n",
       "        text-align: right;\n",
       "    }\n",
       "</style>\n",
       "<table border=\"1\" class=\"dataframe\">\n",
       "  <thead>\n",
       "    <tr style=\"text-align: right;\">\n",
       "      <th>label</th>\n",
       "      <th>0</th>\n",
       "      <th>1</th>\n",
       "      <th>All</th>\n",
       "    </tr>\n",
       "    <tr>\n",
       "      <th>split</th>\n",
       "      <th></th>\n",
       "      <th></th>\n",
       "      <th></th>\n",
       "    </tr>\n",
       "  </thead>\n",
       "  <tbody>\n",
       "    <tr>\n",
       "      <th>dev</th>\n",
       "      <td>20294</td>\n",
       "      <td>20294</td>\n",
       "      <td>40588</td>\n",
       "    </tr>\n",
       "    <tr>\n",
       "      <th>test</th>\n",
       "      <td>19410</td>\n",
       "      <td>19410</td>\n",
       "      <td>38820</td>\n",
       "    </tr>\n",
       "    <tr>\n",
       "      <th>train</th>\n",
       "      <td>35302</td>\n",
       "      <td>35302</td>\n",
       "      <td>70604</td>\n",
       "    </tr>\n",
       "    <tr>\n",
       "      <th>All</th>\n",
       "      <td>75006</td>\n",
       "      <td>75006</td>\n",
       "      <td>150012</td>\n",
       "    </tr>\n",
       "  </tbody>\n",
       "</table>\n",
       "</div>"
      ],
      "text/plain": [
       "label      0      1     All\n",
       "split                      \n",
       "dev    20294  20294   40588\n",
       "test   19410  19410   38820\n",
       "train  35302  35302   70604\n",
       "All    75006  75006  150012"
      ]
     },
     "execution_count": 24,
     "metadata": {},
     "output_type": "execute_result"
    }
   ],
   "source": [
    "table = pd.pivot_table(df, values='title', index=['split'], columns=['label'], aggfunc='count', margins='all')\n",
    "table"
   ]
  },
  {
   "cell_type": "code",
   "execution_count": 25,
   "id": "37a9e2c3-48db-453e-a524-6ab193c5c6f4",
   "metadata": {},
   "outputs": [],
   "source": [
    "df.fillna('', inplace=True)"
   ]
  },
  {
   "cell_type": "markdown",
   "id": "9e52b877-0da0-4907-88c1-efe95f014a3b",
   "metadata": {},
   "source": [
    "# Logistic Regression (Title Only)\n",
    "Train a logistic regression model using Tfidf features to serve as baseline"
   ]
  },
  {
   "cell_type": "code",
   "execution_count": 26,
   "id": "fbdaf76f-233e-4653-a807-1c96d9e761c1",
   "metadata": {},
   "outputs": [
    {
     "name": "stdout",
     "output_type": "stream",
     "text": [
      "X_train: (70604,)\n",
      "X_test: (38820,)\n"
     ]
    }
   ],
   "source": [
    "X_train = df[df['split'] == 'train']['title']\n",
    "y_train = df[df['split'] == 'train']['label']\n",
    "\n",
    "X_test = df[df['split'] == 'test']['title']\n",
    "y_test = df[df['split'] == 'test']['label']\n",
    "\n",
    "print(f'X_train: {X_train.shape}\\nX_test: {X_test.shape}')"
   ]
  },
  {
   "cell_type": "code",
   "execution_count": 27,
   "id": "bbe9a9dc-03d4-44e7-aae5-3877340286eb",
   "metadata": {},
   "outputs": [],
   "source": [
    "vect_word = TfidfVectorizer(max_features=20000, lowercase=True, analyzer='word',\n",
    "                        stop_words= 'english',ngram_range=(1,3),dtype=np.float32)\n",
    "vect_char = TfidfVectorizer(max_features=40000, lowercase=True, analyzer='char',\n",
    "                        stop_words= 'english',ngram_range=(3,6),dtype=np.float32)"
   ]
  },
  {
   "cell_type": "code",
   "execution_count": 28,
   "id": "d2068373-0a68-42dc-bde4-ab52949ce4b4",
   "metadata": {},
   "outputs": [],
   "source": [
    "X_train_vect = sparse.hstack([vect_word.fit_transform(X_train), vect_char.fit_transform(X_train)])\n",
    "X_test_vect = sparse.hstack([vect_word.fit_transform(X_test), vect_char.fit_transform(X_test)])"
   ]
  },
  {
   "cell_type": "code",
   "execution_count": 29,
   "id": "e1a0e284-7877-43bc-aed4-8acd961c8204",
   "metadata": {},
   "outputs": [],
   "source": [
    "lr = LogisticRegression(C=1, max_iter=500, random_state = 42)\n",
    "lr.fit(X_train_vect, y_train)\n",
    "y_pred = lr.predict(X_test_vect)"
   ]
  },
  {
   "cell_type": "code",
   "execution_count": 30,
   "id": "3834e8f6-6ed4-4ca9-b021-b8a388678f97",
   "metadata": {},
   "outputs": [
    {
     "name": "stdout",
     "output_type": "stream",
     "text": [
      "\n",
      "Confusion matrix\n",
      " [[ 1725 17685]\n",
      " [ 1408 18002]]\n",
      "              precision    recall  f1-score   support\n",
      "\n",
      "           0       0.55      0.09      0.15     19410\n",
      "           1       0.50      0.93      0.65     19410\n",
      "\n",
      "    accuracy                           0.51     38820\n",
      "   macro avg       0.53      0.51      0.40     38820\n",
      "weighted avg       0.53      0.51      0.40     38820\n",
      "\n"
     ]
    }
   ],
   "source": [
    "print('\\nConfusion matrix\\n',confusion_matrix(y_test,y_pred))\n",
    "print(classification_report(y_test,y_pred))"
   ]
  },
  {
   "cell_type": "markdown",
   "id": "3562b937-35a3-442b-89fb-3e098ec5bcf4",
   "metadata": {},
   "source": [
    "Logistic regression has an accuracy of 51% and an f1-score of 40%"
   ]
  }
 ],
 "metadata": {
  "kernelspec": {
   "display_name": "Python 3 (ipykernel)",
   "language": "python",
   "name": "python3"
  },
  "language_info": {
   "codemirror_mode": {
    "name": "ipython",
    "version": 3
   },
   "file_extension": ".py",
   "mimetype": "text/x-python",
   "name": "python",
   "nbconvert_exporter": "python",
   "pygments_lexer": "ipython3",
   "version": "3.7.4"
  }
 },
 "nbformat": 4,
 "nbformat_minor": 5
}
