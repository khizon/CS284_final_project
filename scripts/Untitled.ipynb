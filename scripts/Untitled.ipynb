{
 "cells": [
  {
   "cell_type": "code",
   "execution_count": 1,
   "id": "870eefba-cce2-498f-80f4-4e82d02aeb3f",
   "metadata": {},
   "outputs": [],
   "source": [
    "from transformers import BertConfig, BertTokenizer, BertForSequenceClassification\n",
    "from transformers import DistilBertConfig, DistilBertTokenizer, DistilBertForSequenceClassification\n",
    "from transformers import AdamW, get_linear_schedule_with_warmup\n",
    "\n",
    "from utils import *"
   ]
  },
  {
   "cell_type": "code",
   "execution_count": 2,
   "id": "058f6da0-e94d-49bc-9649-7bd4808c1e8d",
   "metadata": {},
   "outputs": [],
   "source": [
    "tokenizer = BertTokenizer.from_pretrained('bert-base-cased')\n",
    "config = BertConfig.from_pretrained('bert-base-cased')\n",
    "config.num_labels = 1\n",
    "model = BertForSequenceClassification(config)"
   ]
  },
  {
   "cell_type": "code",
   "execution_count": 3,
   "id": "ac6d52ee-db31-4ace-958c-039fc02a8d35",
   "metadata": {},
   "outputs": [
    {
     "name": "stdout",
     "output_type": "stream",
     "text": [
      "Max token length: 512 Batch size: 8 Shuffle: True Title only: False\n"
     ]
    }
   ],
   "source": [
    "train_data_loader = create_reliable_news_dataloader(\n",
    "        os.path.join('../' + CONFIG['FILE_PATH'], 'train.jsonl'),\n",
    "        tokenizer,\n",
    "        shuffle = True,\n",
    "        max_len = CONFIG['MAX_LEN'],\n",
    "        sample = CONFIG['SAMPLE'],\n",
    "        title_only = CONFIG['TITLE_ONLY']\n",
    "    )"
   ]
  },
  {
   "cell_type": "code",
   "execution_count": 4,
   "id": "2d104589-f6c1-4755-a6b1-ab4c59d33a80",
   "metadata": {},
   "outputs": [
    {
     "name": "stderr",
     "output_type": "stream",
     "text": [
      "Be aware, overflowing tokens are not returned for the setting you have chosen, i.e. sequence pairs with the 'longest_first' truncation strategy. So the returned list will always be empty even if some tokens have been removed.\n",
      "Be aware, overflowing tokens are not returned for the setting you have chosen, i.e. sequence pairs with the 'longest_first' truncation strategy. So the returned list will always be empty even if some tokens have been removed.\n"
     ]
    },
    {
     "data": {
      "text/plain": [
       "dict_keys(['input_ids', 'attention_mask', 'token_type_ids', 'labels'])"
      ]
     },
     "execution_count": 4,
     "metadata": {},
     "output_type": "execute_result"
    }
   ],
   "source": [
    "sample = next(iter(train_data_loader))\n",
    "sample.keys()"
   ]
  },
  {
   "cell_type": "code",
   "execution_count": null,
   "id": "9cf9f04f-6153-46c3-a0bb-45465ee92f42",
   "metadata": {},
   "outputs": [],
   "source": [
    "sample['text'][0]"
   ]
  },
  {
   "cell_type": "code",
   "execution_count": 5,
   "id": "e51cf7fc-ce34-4b6c-be38-c8361b9cf55d",
   "metadata": {},
   "outputs": [],
   "source": [
    "outputs = model(**sample)"
   ]
  },
  {
   "cell_type": "code",
   "execution_count": 6,
   "id": "168f31ec-5ae8-4503-87d8-215c988fd0f4",
   "metadata": {},
   "outputs": [
    {
     "data": {
      "text/plain": [
       "tensor(0.7264, grad_fn=<MseLossBackward0>)"
      ]
     },
     "execution_count": 6,
     "metadata": {},
     "output_type": "execute_result"
    }
   ],
   "source": [
    "outputs['loss']"
   ]
  },
  {
   "cell_type": "code",
   "execution_count": 7,
   "id": "ced4f02a-92d8-42b5-a8dc-a50ee6191beb",
   "metadata": {},
   "outputs": [
    {
     "data": {
      "text/plain": [
       "tensor([[-0.2212],\n",
       "        [-0.2570],\n",
       "        [ 0.0059],\n",
       "        [ 0.0838],\n",
       "        [ 0.0300],\n",
       "        [-0.1157],\n",
       "        [-0.2084],\n",
       "        [ 0.0756]], grad_fn=<AddmmBackward0>)"
      ]
     },
     "execution_count": 7,
     "metadata": {},
     "output_type": "execute_result"
    }
   ],
   "source": [
    "outputs['logits']"
   ]
  },
  {
   "cell_type": "code",
   "execution_count": 14,
   "id": "a5b2d74c-c571-4d82-9547-21d191ab105c",
   "metadata": {},
   "outputs": [],
   "source": [
    "correct_predictions = 0\n",
    "n_examples = 0\n",
    "preds = torch.round(outputs['logits'])\n",
    "correct_predictions += (preds == sample['labels'].unsqueeze(1)).sum().item()\n",
    "n_examples += len(sample['labels'])"
   ]
  },
  {
   "cell_type": "code",
   "execution_count": 15,
   "id": "d426cc48-8e51-451c-a246-e2e4d5a1d718",
   "metadata": {},
   "outputs": [
    {
     "data": {
      "text/plain": [
       "3"
      ]
     },
     "execution_count": 15,
     "metadata": {},
     "output_type": "execute_result"
    }
   ],
   "source": [
    "correct_predictions"
   ]
  }
 ],
 "metadata": {
  "kernelspec": {
   "display_name": "Python 3 (ipykernel)",
   "language": "python",
   "name": "python3"
  },
  "language_info": {
   "codemirror_mode": {
    "name": "ipython",
    "version": 3
   },
   "file_extension": ".py",
   "mimetype": "text/x-python",
   "name": "python",
   "nbconvert_exporter": "python",
   "pygments_lexer": "ipython3",
   "version": "3.7.4"
  }
 },
 "nbformat": 4,
 "nbformat_minor": 5
}
