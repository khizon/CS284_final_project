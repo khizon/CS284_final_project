{
 "cells": [
  {
   "cell_type": "code",
   "execution_count": 1,
   "id": "5a374192-26d3-44d6-8dba-756b3dc0a8d8",
   "metadata": {},
   "outputs": [],
   "source": [
    "import torch\n",
    "from scripts.transformer.modeling import TinyBertForSequenceClassification\n",
    "from scripts.transformer.modeling import BertConfig as TBertConfig\n",
    "from scripts.transformer.optimization import BertAdam\n",
    "from scripts.transformer.file_utils import WEIGHTS_NAME, CONFIG_NAME\n",
    "from transformers import BertTokenizer, BertForSequenceClassification, BertConfig\n",
    "\n",
    "from scripts.utils import *\n",
    "import os"
   ]
  },
  {
   "cell_type": "code",
   "execution_count": 2,
   "id": "e256806b-b0d3-447c-a17f-a4e0402a1484",
   "metadata": {},
   "outputs": [],
   "source": [
    "device = torch.device(\"cuda\" if torch.cuda.is_available() else \"cpu\")\n",
    "n_gpu = torch.cuda.device_count()"
   ]
  },
  {
   "cell_type": "code",
   "execution_count": null,
   "id": "944994ef-5995-4a76-853f-300aed302ea7",
   "metadata": {},
   "outputs": [],
   "source": [
    "# Teacher model\n",
    "tokenizer, teacher = create_model('bert-base-cased', distill = True, student_dim = 312)\n",
    "checkpoint = torch.load(os.path.join('artifacts', 'BERT-title-content-benchmark:v0', 'pytorch_model.bin'), map_location=torch.device(device))\n",
    "teacher.load_state_dict(checkpoint['state_dict'])\n",
    "teacher.config"
   ]
  },
  {
   "cell_type": "code",
   "execution_count": 6,
   "id": "969e8f4e-91a2-4358-bbc5-36d9d547b722",
   "metadata": {},
   "outputs": [],
   "source": [
    "# Student model\n",
    "student_path = os.path.join('artifacts', '2nd_General_TinyBERT_4L_312D')\n",
    "# student_config = TBertConfig(student_path)\n",
    "# student_config.hidden_size = 768\n",
    "student = TinyBertForSequenceClassification.from_pretrained(student_path, num_labels = 1)\n",
    "# checkpoint = torch.load(os.path.join('artifacts', '2nd_General_TinyBERT_4L_312D', 'pytorch_model.bin'), map_location=torch.device(device))\n",
    "# student.load_state_dict(checkpoint)"
   ]
  },
  {
   "cell_type": "code",
   "execution_count": 7,
   "id": "8e16af5e-900f-4ead-be74-51e154f9433a",
   "metadata": {},
   "outputs": [
    {
     "data": {
      "text/plain": [
       "{\n",
       "  \"attention_probs_dropout_prob\": 0.1,\n",
       "  \"cell\": {},\n",
       "  \"emb_size\": 312,\n",
       "  \"hidden_act\": \"gelu\",\n",
       "  \"hidden_dropout_prob\": 0.1,\n",
       "  \"hidden_size\": 312,\n",
       "  \"initializer_range\": 0.02,\n",
       "  \"intermediate_size\": 1200,\n",
       "  \"max_position_embeddings\": 512,\n",
       "  \"num_attention_heads\": 12,\n",
       "  \"num_hidden_layers\": 4,\n",
       "  \"pre_trained\": \"\",\n",
       "  \"structure\": [],\n",
       "  \"training\": \"\",\n",
       "  \"type_vocab_size\": 2,\n",
       "  \"vocab_size\": 30522\n",
       "}"
      ]
     },
     "execution_count": 7,
     "metadata": {},
     "output_type": "execute_result"
    }
   ],
   "source": [
    "student.config"
   ]
  },
  {
   "cell_type": "code",
   "execution_count": 10,
   "id": "41f13779-9e28-4d1b-abc2-286cbc27c378",
   "metadata": {},
   "outputs": [
    {
     "ename": "TypeError",
     "evalue": "'module' object is not callable",
     "output_type": "error",
     "traceback": [
      "\u001b[0;31m---------------------------------------------------------------------------\u001b[0m",
      "\u001b[0;31mTypeError\u001b[0m                                 Traceback (most recent call last)",
      "\u001b[0;32m/tmp/ipykernel_28947/1804547288.py\u001b[0m in \u001b[0;36m<module>\u001b[0;34m\u001b[0m\n\u001b[1;32m      1\u001b[0m \u001b[0mstudent_config\u001b[0m \u001b[0;34m=\u001b[0m \u001b[0mstudent\u001b[0m\u001b[0;34m.\u001b[0m\u001b[0mconfig\u001b[0m\u001b[0;34m\u001b[0m\u001b[0;34m\u001b[0m\u001b[0m\n\u001b[0;32m----> 2\u001b[0;31m \u001b[0mtorch\u001b[0m\u001b[0;34m.\u001b[0m\u001b[0msave\u001b[0m\u001b[0;34m(\u001b[0m\u001b[0mstudent_config\u001b[0m\u001b[0;34m,\u001b[0m \u001b[0mos\u001b[0m\u001b[0;34m.\u001b[0m\u001b[0mpath\u001b[0m\u001b[0;34m(\u001b[0m\u001b[0;34m'artifacts'\u001b[0m\u001b[0;34m,\u001b[0m \u001b[0;34m'config.bin'\u001b[0m\u001b[0;34m)\u001b[0m\u001b[0;34m)\u001b[0m\u001b[0;34m\u001b[0m\u001b[0;34m\u001b[0m\u001b[0m\n\u001b[0m",
      "\u001b[0;31mTypeError\u001b[0m: 'module' object is not callable"
     ]
    }
   ],
   "source": [
    "student_config = student.config\n",
    "torch.save(student_config, os.path('artifacts', 'config.bin'))"
   ]
  },
  {
   "cell_type": "code",
   "execution_count": 11,
   "id": "57efee54-f86a-4824-971b-7d1f15890f49",
   "metadata": {},
   "outputs": [
    {
     "name": "stdout",
     "output_type": "stream",
     "text": [
      "Max token length: 512 Batch size: 8 Shuffle: True Title only: False\n"
     ]
    }
   ],
   "source": [
    "train_data_loader = create_reliable_news_dataloader(\n",
    "            os.path.join('data', 'nela_gt_2018_site_split', 'train.jsonl'),\n",
    "            tokenizer,\n",
    "            max_len = 512,\n",
    "            batch_size = 8 * max(1, n_gpu),\n",
    "            shuffle=True,\n",
    "            sample = 16,\n",
    "            title_only = False\n",
    "        )"
   ]
  },
  {
   "cell_type": "code",
   "execution_count": 12,
   "id": "53ea1e9f-b809-4621-ba6f-e9a788c665c4",
   "metadata": {},
   "outputs": [
    {
     "data": {
      "application/vnd.jupyter.widget-view+json": {
       "model_id": "f22d564567f243b2b4a404f8b14c8d81",
       "version_major": 2,
       "version_minor": 0
      },
      "text/plain": [
       "  0%|          | 0/2 [00:00<?, ?it/s]"
      ]
     },
     "metadata": {},
     "output_type": "display_data"
    }
   ],
   "source": [
    "model = teacher.eval()\n",
    "with torch.no_grad():\n",
    "    loop = tqdm(train_data_loader)\n",
    "    for idx, batch in enumerate(loop):\n",
    "\n",
    "        input_ids = batch[\"input_ids\"].to(device)\n",
    "        attention_mask = batch[\"attention_mask\"].to(device)\n",
    "        token_type_ids = batch['token_type_ids'].to(device)\n",
    "        labels = batch[\"labels\"].to(device).unsqueeze(1)\n",
    "        \n",
    "        outputs = model(input_ids = input_ids, attention_mask = attention_mask, token_type_ids = token_type_ids, labels = labels)\n",
    "        break"
   ]
  },
  {
   "cell_type": "code",
   "execution_count": 23,
   "id": "44a751f4-c7bd-4a47-baf6-8412b847cdd5",
   "metadata": {},
   "outputs": [
    {
     "data": {
      "text/plain": [
       "odict_keys(['loss', 'logits', 'hidden_states', 'attentions'])"
      ]
     },
     "execution_count": 23,
     "metadata": {},
     "output_type": "execute_result"
    }
   ],
   "source": [
    "outputs.keys()"
   ]
  },
  {
   "cell_type": "code",
   "execution_count": 13,
   "id": "c8bf2b06-570e-4be5-9ced-bb6062656c74",
   "metadata": {},
   "outputs": [
    {
     "data": {
      "application/vnd.jupyter.widget-view+json": {
       "model_id": "e80b081cd5764062982177c126f738ed",
       "version_major": 2,
       "version_minor": 0
      },
      "text/plain": [
       "  0%|          | 0/2 [00:00<?, ?it/s]"
      ]
     },
     "metadata": {},
     "output_type": "display_data"
    }
   ],
   "source": [
    "model = student.eval()\n",
    "with torch.no_grad():\n",
    "    loop = tqdm(train_data_loader)\n",
    "    for idx, batch in enumerate(loop):\n",
    "\n",
    "        input_ids = batch[\"input_ids\"].to(device)\n",
    "        attention_mask = batch[\"attention_mask\"].to(device)\n",
    "        token_type_ids = batch['token_type_ids'].to(device)\n",
    "        labels = batch[\"labels\"].to(device).unsqueeze(1)\n",
    "        \n",
    "        logits, atts, reps = model(input_ids = input_ids, attention_mask = attention_mask, token_type_ids = token_type_ids, labels = labels)\n",
    "        break"
   ]
  },
  {
   "cell_type": "code",
   "execution_count": 25,
   "id": "3c4c2ff2-8186-4c57-8f73-94d15181f492",
   "metadata": {},
   "outputs": [
    {
     "data": {
      "text/plain": [
       "torch.Size([8, 12, 512, 512])"
      ]
     },
     "execution_count": 25,
     "metadata": {},
     "output_type": "execute_result"
    }
   ],
   "source": [
    "atts[0].shape"
   ]
  },
  {
   "cell_type": "code",
   "execution_count": 26,
   "id": "7ce87fa5-ab52-4410-bf75-553ef77ba08e",
   "metadata": {},
   "outputs": [
    {
     "data": {
      "text/plain": [
       "torch.Size([8, 512, 312])"
      ]
     },
     "execution_count": 26,
     "metadata": {},
     "output_type": "execute_result"
    }
   ],
   "source": [
    "reps[1].shape"
   ]
  },
  {
   "cell_type": "code",
   "execution_count": 14,
   "id": "e65b85a3-91b3-460c-b738-920bfb847dff",
   "metadata": {},
   "outputs": [
    {
     "data": {
      "text/plain": [
       "True"
      ]
     },
     "execution_count": 14,
     "metadata": {},
     "output_type": "execute_result"
    }
   ],
   "source": [
    "teacher_layer_num = len(outputs['attentions'])\n",
    "student_layer_num = len(atts)\n",
    "teacher_layer_num % student_layer_num == 0"
   ]
  },
  {
   "cell_type": "code",
   "execution_count": 15,
   "id": "7d952807-4046-4176-809a-01130e071688",
   "metadata": {},
   "outputs": [],
   "source": [
    "teacher_atts = outputs['attentions']\n",
    "student_atts = atts\n",
    "layers_per_block = int(teacher_layer_num / student_layer_num)\n",
    "new_teacher_atts = [teacher_atts[i * layers_per_block + layers_per_block - 1]\n",
    "                    for i in range(student_layer_num)]"
   ]
  },
  {
   "cell_type": "code",
   "execution_count": 16,
   "id": "e2b0fe2c-b7fa-457a-b7a8-2a469849e9c6",
   "metadata": {},
   "outputs": [],
   "source": [
    "att_loss = 0\n",
    "from torch.nn import CrossEntropyLoss, MSELoss\n",
    "lossMse = MSELoss()\n",
    "for student_att, teacher_att in zip(student_atts, new_teacher_atts):\n",
    "    student_att = torch.where(student_att <= -1e2, torch.zeros_like(student_att).to(device),\n",
    "                                student_att)\n",
    "    teacher_att = torch.where(teacher_att <= -1e2, torch.zeros_like(teacher_att).to(device),\n",
    "                                teacher_att)\n",
    "\n",
    "    tmp_loss = lossMse(student_att, teacher_att)\n",
    "    att_loss += tmp_loss"
   ]
  },
  {
   "cell_type": "code",
   "execution_count": 17,
   "id": "7b3bcdca-1fc5-4613-8fc8-646436b42a71",
   "metadata": {},
   "outputs": [],
   "source": [
    "teacher_reps = outputs['hidden_states']\n",
    "student_reps = reps\n",
    "rep_loss = 0\n",
    "new_teacher_reps = [teacher_reps[i * layers_per_block] for i in range(student_layer_num + 1)]\n",
    "new_student_reps = student_reps\n",
    "\n",
    "for student_rep, teacher_rep in zip(new_student_reps, new_teacher_reps):\n",
    "    tmp_loss = lossMse(student_rep, teacher_rep)\n",
    "    rep_loss += tmp_loss"
   ]
  },
  {
   "cell_type": "code",
   "execution_count": 18,
   "id": "4d1b637a-53a4-433a-9e6a-dec9f3ec9d17",
   "metadata": {},
   "outputs": [
    {
     "data": {
      "text/plain": [
       "tensor(55.3353)"
      ]
     },
     "execution_count": 18,
     "metadata": {},
     "output_type": "execute_result"
    }
   ],
   "source": [
    "att_loss"
   ]
  },
  {
   "cell_type": "code",
   "execution_count": 19,
   "id": "0fd0ba52-d79b-4fa4-a5f6-c5856e10297d",
   "metadata": {},
   "outputs": [
    {
     "data": {
      "text/plain": [
       "tensor(8.1938)"
      ]
     },
     "execution_count": 19,
     "metadata": {},
     "output_type": "execute_result"
    }
   ],
   "source": [
    "rep_loss"
   ]
  },
  {
   "cell_type": "code",
   "execution_count": 22,
   "id": "0fe6c24a-d054-403f-b541-4f5ce72db799",
   "metadata": {},
   "outputs": [
    {
     "data": {
      "text/plain": [
       "63.529056549072266"
      ]
     },
     "execution_count": 22,
     "metadata": {},
     "output_type": "execute_result"
    }
   ],
   "source": [
    "loss = att_loss + rep_loss\n",
    "loss.item()"
   ]
  }
 ],
 "metadata": {
  "environment": {
   "kernel": "python3",
   "name": "common-cu110.m87",
   "type": "gcloud",
   "uri": "gcr.io/deeplearning-platform-release/base-cu110:m87"
  },
  "kernelspec": {
   "display_name": "Python 3",
   "language": "python",
   "name": "python3"
  },
  "language_info": {
   "codemirror_mode": {
    "name": "ipython",
    "version": 3
   },
   "file_extension": ".py",
   "mimetype": "text/x-python",
   "name": "python",
   "nbconvert_exporter": "python",
   "pygments_lexer": "ipython3",
   "version": "3.7.12"
  }
 },
 "nbformat": 4,
 "nbformat_minor": 5
}
